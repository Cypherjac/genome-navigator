{
  "nbformat": 4,
  "nbformat_minor": 0,
  "metadata": {
    "colab": {
      "provenance": [],
      "authorship_tag": "ABX9TyNEkVedmQe6BB4w7/bTutCV",
      "include_colab_link": true
    },
    "kernelspec": {
      "name": "python3",
      "display_name": "Python 3"
    },
    "language_info": {
      "name": "python"
    }
  },
  "cells": [
    {
      "cell_type": "markdown",
      "metadata": {
        "id": "view-in-github",
        "colab_type": "text"
      },
      "source": [
        "<a href=\"https://colab.research.google.com/github/Cypherjac/genome-navigator/blob/main/Genome_Navigator_GWAS_iter_1.ipynb\" target=\"_parent\"><img src=\"https://colab.research.google.com/assets/colab-badge.svg\" alt=\"Open In Colab\"/></a>"
      ]
    },
    {
      "cell_type": "code",
      "execution_count": null,
      "metadata": {
        "id": "Fw_DLhxSRCU7"
      },
      "outputs": [],
      "source": [
        "import tensorflow as tf\n",
        "import pandas as pd\n",
        "import numpy as np\n",
        "from sklearn.model_selection import train_test_split\n",
        "from sklearn.preprocessing import StandardScaler\n",
        "\n",
        "# GWAS Summary Statistics Data (CSV)\n",
        "# TO EXTRACT GWAS DATA FROM APIs AVAILABLE\n",
        "gwas_data_path = \"gwas_data.csv\"\n",
        "df = pd.read_csv(gwas_data_path)\n",
        "\n",
        "# Drop non-numeric columns (e.g., SNP ID, Chromosome, Position)\n",
        "X = df.drop(columns=[\"SNP_ID\", \"Chromosome\", \"Position\"]).values\n",
        "y = (df[\"p-value\"] < 5e-8).astype(int).values\n",
        "\n",
        "scaler = StandardScaler()\n",
        "X = scaler.fit_transform(X)\n",
        "\n",
        "X_train, X_test, y_train, y_test = train_test_split(X, y, test_size=0.2, random_state=42)\n",
        "\n",
        "def create_model(input_shape):\n",
        "    model = tf.keras.Sequential([\n",
        "        tf.keras.layers.Dense(128, activation='relu', input_shape=(input_shape,)),\n",
        "        tf.keras.layers.Dense(64, activation='relu'),\n",
        "        tf.keras.layers.Dense(32, activation='relu'),\n",
        "        tf.keras.layers.Dense(1, activation='sigmoid')\n",
        "    ])\n",
        "    model.compile(optimizer='adam', loss='binary_crossentropy', metrics=['accuracy'])\n",
        "    return model\n",
        "\n",
        "model = create_model(X_train.shape[1])\n",
        "history = model.fit(X_train, y_train, epochs=50, batch_size=32, validation_data=(X_test, y_test))\n",
        "\n",
        "# MODEL EVALUATION\n",
        "test_loss, test_acc = model.evaluate(X_test, y_test)\n",
        "print(f\"Test Accuracy: {test_acc:.4f}\")\n",
        "\n",
        "model.save(\"gwas_model.h5\")\n",
        "\n",
        "# MODEL INFERENCE\n",
        "def predict_gwas_variant(features):\n",
        "    model = tf.keras.models.load_model(\"gwas_model.h5\")\n",
        "    features = np.array(features).reshape(1, -1)\n",
        "    features = scaler.transform(features)\n",
        "    prediction = model.predict(features)[0][0]\n",
        "    return \"Significant Variant\" if prediction > 0.5 else \"Not Significant\"\n",
        "\n"
      ]
    }
  ]
}